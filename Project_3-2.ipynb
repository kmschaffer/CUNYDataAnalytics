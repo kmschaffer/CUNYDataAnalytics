{
  "nbformat": 4,
  "nbformat_minor": 0,
  "metadata": {
    "colab": {
      "name": "Project 3.ipynb",
      "provenance": []
    },
    "kernelspec": {
      "name": "python3",
      "display_name": "Python 3"
    },
    "language_info": {
      "name": "python"
    }
  },
  "cells": [
    {
      "cell_type": "code",
      "execution_count": 94,
      "metadata": {
        "id": "fwgh46XV7VTD"
      },
      "outputs": [],
      "source": [
        "import pandas as pd"
      ]
    },
    {
      "cell_type": "code",
      "source": [
        "import numpy as np\n",
        "import seaborn as sns\n",
        "import matplotlib.pyplot as plt\n",
        "%matplotlib inline"
      ],
      "metadata": {
        "id": "45BL8uLJ7Yr9"
      },
      "execution_count": 95,
      "outputs": []
    },
    {
      "cell_type": "code",
      "source": [
        "df = pd.read_csv (\"https://raw.githubusercontent.com/kmschaffer/CUNYDataAnalytics/main/NYPD_Arrest_Data__Year_to_Date_.csv\")"
      ],
      "metadata": {
        "id": "yo8yf5MW7m3t"
      },
      "execution_count": 96,
      "outputs": []
    },
    {
      "cell_type": "code",
      "source": [
        "df.head()"
      ],
      "metadata": {
        "colab": {
          "base_uri": "https://localhost:8080/",
          "height": 506
        },
        "id": "uMLXalLP7tIu",
        "outputId": "2aa1a2c5-a744-4f96-81ad-5be6948800c6"
      },
      "execution_count": 97,
      "outputs": [
        {
          "output_type": "execute_result",
          "data": {
            "text/html": [
              "\n",
              "  <div id=\"df-b12a6110-030d-426a-8162-763941acbbc3\">\n",
              "    <div class=\"colab-df-container\">\n",
              "      <div>\n",
              "<style scoped>\n",
              "    .dataframe tbody tr th:only-of-type {\n",
              "        vertical-align: middle;\n",
              "    }\n",
              "\n",
              "    .dataframe tbody tr th {\n",
              "        vertical-align: top;\n",
              "    }\n",
              "\n",
              "    .dataframe thead th {\n",
              "        text-align: right;\n",
              "    }\n",
              "</style>\n",
              "<table border=\"1\" class=\"dataframe\">\n",
              "  <thead>\n",
              "    <tr style=\"text-align: right;\">\n",
              "      <th></th>\n",
              "      <th>ARREST_KEY</th>\n",
              "      <th>ARREST_DATE</th>\n",
              "      <th>PD_CD</th>\n",
              "      <th>PD_DESC</th>\n",
              "      <th>KY_CD</th>\n",
              "      <th>OFNS_DESC</th>\n",
              "      <th>LAW_CODE</th>\n",
              "      <th>LAW_CAT_CD</th>\n",
              "      <th>ARREST_BORO</th>\n",
              "      <th>ARREST_PRECINCT</th>\n",
              "      <th>JURISDICTION_CODE</th>\n",
              "      <th>AGE_GROUP</th>\n",
              "      <th>PERP_SEX</th>\n",
              "      <th>PERP_RACE</th>\n",
              "      <th>X_COORD_CD</th>\n",
              "      <th>Y_COORD_CD</th>\n",
              "      <th>Latitude</th>\n",
              "      <th>Longitude</th>\n",
              "      <th>New Georeferenced Column</th>\n",
              "    </tr>\n",
              "  </thead>\n",
              "  <tbody>\n",
              "    <tr>\n",
              "      <th>0</th>\n",
              "      <td>234233843</td>\n",
              "      <td>09/29/2021</td>\n",
              "      <td>105.0</td>\n",
              "      <td>STRANGULATION 1ST</td>\n",
              "      <td>106.0</td>\n",
              "      <td>FELONY ASSAULT</td>\n",
              "      <td>PL 1211200</td>\n",
              "      <td>F</td>\n",
              "      <td>B</td>\n",
              "      <td>42</td>\n",
              "      <td>0</td>\n",
              "      <td>25-44</td>\n",
              "      <td>M</td>\n",
              "      <td>BLACK</td>\n",
              "      <td>1009231</td>\n",
              "      <td>240290</td>\n",
              "      <td>40.826189</td>\n",
              "      <td>-73.909738</td>\n",
              "      <td>POINT (-73.90973778899996 40.82618898100003)</td>\n",
              "    </tr>\n",
              "    <tr>\n",
              "      <th>1</th>\n",
              "      <td>234129823</td>\n",
              "      <td>09/27/2021</td>\n",
              "      <td>157.0</td>\n",
              "      <td>RAPE 1</td>\n",
              "      <td>104.0</td>\n",
              "      <td>RAPE</td>\n",
              "      <td>PL 1303501</td>\n",
              "      <td>F</td>\n",
              "      <td>K</td>\n",
              "      <td>77</td>\n",
              "      <td>0</td>\n",
              "      <td>25-44</td>\n",
              "      <td>M</td>\n",
              "      <td>BLACK</td>\n",
              "      <td>1003606</td>\n",
              "      <td>185050</td>\n",
              "      <td>40.674583</td>\n",
              "      <td>-73.930222</td>\n",
              "      <td>POINT (-73.93022154099998 40.67458330800008)</td>\n",
              "    </tr>\n",
              "    <tr>\n",
              "      <th>2</th>\n",
              "      <td>234040747</td>\n",
              "      <td>09/25/2021</td>\n",
              "      <td>109.0</td>\n",
              "      <td>ASSAULT 2,1,UNCLASSIFIED</td>\n",
              "      <td>106.0</td>\n",
              "      <td>FELONY ASSAULT</td>\n",
              "      <td>PL 1200501</td>\n",
              "      <td>F</td>\n",
              "      <td>Q</td>\n",
              "      <td>101</td>\n",
              "      <td>0</td>\n",
              "      <td>25-44</td>\n",
              "      <td>M</td>\n",
              "      <td>BLACK</td>\n",
              "      <td>1049232</td>\n",
              "      <td>159210</td>\n",
              "      <td>40.603441</td>\n",
              "      <td>-73.765986</td>\n",
              "      <td>POINT (-73.76598558899997 40.60344094100003)</td>\n",
              "    </tr>\n",
              "    <tr>\n",
              "      <th>3</th>\n",
              "      <td>234047720</td>\n",
              "      <td>09/25/2021</td>\n",
              "      <td>101.0</td>\n",
              "      <td>ASSAULT 3</td>\n",
              "      <td>344.0</td>\n",
              "      <td>ASSAULT 3 &amp; RELATED OFFENSES</td>\n",
              "      <td>PL 1200001</td>\n",
              "      <td>M</td>\n",
              "      <td>B</td>\n",
              "      <td>44</td>\n",
              "      <td>0</td>\n",
              "      <td>25-44</td>\n",
              "      <td>M</td>\n",
              "      <td>BLACK</td>\n",
              "      <td>1006537</td>\n",
              "      <td>244511</td>\n",
              "      <td>40.837782</td>\n",
              "      <td>-73.919458</td>\n",
              "      <td>POINT (-73.91945797099999 40.83778161800007)</td>\n",
              "    </tr>\n",
              "    <tr>\n",
              "      <th>4</th>\n",
              "      <td>234042526</td>\n",
              "      <td>09/25/2021</td>\n",
              "      <td>101.0</td>\n",
              "      <td>ASSAULT 3</td>\n",
              "      <td>344.0</td>\n",
              "      <td>ASSAULT 3 &amp; RELATED OFFENSES</td>\n",
              "      <td>PL 1200001</td>\n",
              "      <td>M</td>\n",
              "      <td>B</td>\n",
              "      <td>44</td>\n",
              "      <td>0</td>\n",
              "      <td>25-44</td>\n",
              "      <td>M</td>\n",
              "      <td>BLACK</td>\n",
              "      <td>1007418</td>\n",
              "      <td>243859</td>\n",
              "      <td>40.835990</td>\n",
              "      <td>-73.916276</td>\n",
              "      <td>POINT (-73.91627635999998 40.83598980000005)</td>\n",
              "    </tr>\n",
              "  </tbody>\n",
              "</table>\n",
              "</div>\n",
              "      <button class=\"colab-df-convert\" onclick=\"convertToInteractive('df-b12a6110-030d-426a-8162-763941acbbc3')\"\n",
              "              title=\"Convert this dataframe to an interactive table.\"\n",
              "              style=\"display:none;\">\n",
              "        \n",
              "  <svg xmlns=\"http://www.w3.org/2000/svg\" height=\"24px\"viewBox=\"0 0 24 24\"\n",
              "       width=\"24px\">\n",
              "    <path d=\"M0 0h24v24H0V0z\" fill=\"none\"/>\n",
              "    <path d=\"M18.56 5.44l.94 2.06.94-2.06 2.06-.94-2.06-.94-.94-2.06-.94 2.06-2.06.94zm-11 1L8.5 8.5l.94-2.06 2.06-.94-2.06-.94L8.5 2.5l-.94 2.06-2.06.94zm10 10l.94 2.06.94-2.06 2.06-.94-2.06-.94-.94-2.06-.94 2.06-2.06.94z\"/><path d=\"M17.41 7.96l-1.37-1.37c-.4-.4-.92-.59-1.43-.59-.52 0-1.04.2-1.43.59L10.3 9.45l-7.72 7.72c-.78.78-.78 2.05 0 2.83L4 21.41c.39.39.9.59 1.41.59.51 0 1.02-.2 1.41-.59l7.78-7.78 2.81-2.81c.8-.78.8-2.07 0-2.86zM5.41 20L4 18.59l7.72-7.72 1.47 1.35L5.41 20z\"/>\n",
              "  </svg>\n",
              "      </button>\n",
              "      \n",
              "  <style>\n",
              "    .colab-df-container {\n",
              "      display:flex;\n",
              "      flex-wrap:wrap;\n",
              "      gap: 12px;\n",
              "    }\n",
              "\n",
              "    .colab-df-convert {\n",
              "      background-color: #E8F0FE;\n",
              "      border: none;\n",
              "      border-radius: 50%;\n",
              "      cursor: pointer;\n",
              "      display: none;\n",
              "      fill: #1967D2;\n",
              "      height: 32px;\n",
              "      padding: 0 0 0 0;\n",
              "      width: 32px;\n",
              "    }\n",
              "\n",
              "    .colab-df-convert:hover {\n",
              "      background-color: #E2EBFA;\n",
              "      box-shadow: 0px 1px 2px rgba(60, 64, 67, 0.3), 0px 1px 3px 1px rgba(60, 64, 67, 0.15);\n",
              "      fill: #174EA6;\n",
              "    }\n",
              "\n",
              "    [theme=dark] .colab-df-convert {\n",
              "      background-color: #3B4455;\n",
              "      fill: #D2E3FC;\n",
              "    }\n",
              "\n",
              "    [theme=dark] .colab-df-convert:hover {\n",
              "      background-color: #434B5C;\n",
              "      box-shadow: 0px 1px 3px 1px rgba(0, 0, 0, 0.15);\n",
              "      filter: drop-shadow(0px 1px 2px rgba(0, 0, 0, 0.3));\n",
              "      fill: #FFFFFF;\n",
              "    }\n",
              "  </style>\n",
              "\n",
              "      <script>\n",
              "        const buttonEl =\n",
              "          document.querySelector('#df-b12a6110-030d-426a-8162-763941acbbc3 button.colab-df-convert');\n",
              "        buttonEl.style.display =\n",
              "          google.colab.kernel.accessAllowed ? 'block' : 'none';\n",
              "\n",
              "        async function convertToInteractive(key) {\n",
              "          const element = document.querySelector('#df-b12a6110-030d-426a-8162-763941acbbc3');\n",
              "          const dataTable =\n",
              "            await google.colab.kernel.invokeFunction('convertToInteractive',\n",
              "                                                     [key], {});\n",
              "          if (!dataTable) return;\n",
              "\n",
              "          const docLinkHtml = 'Like what you see? Visit the ' +\n",
              "            '<a target=\"_blank\" href=https://colab.research.google.com/notebooks/data_table.ipynb>data table notebook</a>'\n",
              "            + ' to learn more about interactive tables.';\n",
              "          element.innerHTML = '';\n",
              "          dataTable['output_type'] = 'display_data';\n",
              "          await google.colab.output.renderOutput(dataTable, element);\n",
              "          const docLink = document.createElement('div');\n",
              "          docLink.innerHTML = docLinkHtml;\n",
              "          element.appendChild(docLink);\n",
              "        }\n",
              "      </script>\n",
              "    </div>\n",
              "  </div>\n",
              "  "
            ],
            "text/plain": [
              "   ARREST_KEY  ...                      New Georeferenced Column\n",
              "0   234233843  ...  POINT (-73.90973778899996 40.82618898100003)\n",
              "1   234129823  ...  POINT (-73.93022154099998 40.67458330800008)\n",
              "2   234040747  ...  POINT (-73.76598558899997 40.60344094100003)\n",
              "3   234047720  ...  POINT (-73.91945797099999 40.83778161800007)\n",
              "4   234042526  ...  POINT (-73.91627635999998 40.83598980000005)\n",
              "\n",
              "[5 rows x 19 columns]"
            ]
          },
          "metadata": {},
          "execution_count": 97
        }
      ]
    },
    {
      "cell_type": "code",
      "source": [
        "df.tail()"
      ],
      "metadata": {
        "colab": {
          "base_uri": "https://localhost:8080/",
          "height": 489
        },
        "id": "xj77k_Qq_O4C",
        "outputId": "5ac87d80-39e5-4ca1-fbc8-5fe8f019135b"
      },
      "execution_count": 98,
      "outputs": [
        {
          "output_type": "execute_result",
          "data": {
            "text/html": [
              "\n",
              "  <div id=\"df-f99fd0bd-046a-403e-b86a-cf628e9d9f04\">\n",
              "    <div class=\"colab-df-container\">\n",
              "      <div>\n",
              "<style scoped>\n",
              "    .dataframe tbody tr th:only-of-type {\n",
              "        vertical-align: middle;\n",
              "    }\n",
              "\n",
              "    .dataframe tbody tr th {\n",
              "        vertical-align: top;\n",
              "    }\n",
              "\n",
              "    .dataframe thead th {\n",
              "        text-align: right;\n",
              "    }\n",
              "</style>\n",
              "<table border=\"1\" class=\"dataframe\">\n",
              "  <thead>\n",
              "    <tr style=\"text-align: right;\">\n",
              "      <th></th>\n",
              "      <th>ARREST_KEY</th>\n",
              "      <th>ARREST_DATE</th>\n",
              "      <th>PD_CD</th>\n",
              "      <th>PD_DESC</th>\n",
              "      <th>KY_CD</th>\n",
              "      <th>OFNS_DESC</th>\n",
              "      <th>LAW_CODE</th>\n",
              "      <th>LAW_CAT_CD</th>\n",
              "      <th>ARREST_BORO</th>\n",
              "      <th>ARREST_PRECINCT</th>\n",
              "      <th>JURISDICTION_CODE</th>\n",
              "      <th>AGE_GROUP</th>\n",
              "      <th>PERP_SEX</th>\n",
              "      <th>PERP_RACE</th>\n",
              "      <th>X_COORD_CD</th>\n",
              "      <th>Y_COORD_CD</th>\n",
              "      <th>Latitude</th>\n",
              "      <th>Longitude</th>\n",
              "      <th>New Georeferenced Column</th>\n",
              "    </tr>\n",
              "  </thead>\n",
              "  <tbody>\n",
              "    <tr>\n",
              "      <th>115294</th>\n",
              "      <td>222689440</td>\n",
              "      <td>01/06/2021</td>\n",
              "      <td>109.0</td>\n",
              "      <td>ASSAULT 2,1,UNCLASSIFIED</td>\n",
              "      <td>106.0</td>\n",
              "      <td>FELONY ASSAULT</td>\n",
              "      <td>PL 1200501</td>\n",
              "      <td>F</td>\n",
              "      <td>Q</td>\n",
              "      <td>102</td>\n",
              "      <td>0</td>\n",
              "      <td>18-24</td>\n",
              "      <td>M</td>\n",
              "      <td>ASIAN / PACIFIC ISLANDER</td>\n",
              "      <td>1031076</td>\n",
              "      <td>193779</td>\n",
              "      <td>40.698440</td>\n",
              "      <td>-73.831130</td>\n",
              "      <td>POINT (-73.83112953899997 40.69843969400005)</td>\n",
              "    </tr>\n",
              "    <tr>\n",
              "      <th>115295</th>\n",
              "      <td>222626401</td>\n",
              "      <td>01/05/2021</td>\n",
              "      <td>109.0</td>\n",
              "      <td>ASSAULT 2,1,UNCLASSIFIED</td>\n",
              "      <td>106.0</td>\n",
              "      <td>FELONY ASSAULT</td>\n",
              "      <td>PL 1200502</td>\n",
              "      <td>F</td>\n",
              "      <td>B</td>\n",
              "      <td>49</td>\n",
              "      <td>0</td>\n",
              "      <td>25-44</td>\n",
              "      <td>M</td>\n",
              "      <td>BLACK HISPANIC</td>\n",
              "      <td>1027430</td>\n",
              "      <td>251105</td>\n",
              "      <td>40.855803</td>\n",
              "      <td>-73.843910</td>\n",
              "      <td>POINT (-73.84390995399998 40.85580274300003)</td>\n",
              "    </tr>\n",
              "    <tr>\n",
              "      <th>115296</th>\n",
              "      <td>222477062</td>\n",
              "      <td>01/01/2021</td>\n",
              "      <td>922.0</td>\n",
              "      <td>TRAFFIC,UNCLASSIFIED MISDEMEAN</td>\n",
              "      <td>348.0</td>\n",
              "      <td>VEHICLE AND TRAFFIC LAWS</td>\n",
              "      <td>VTL0511001</td>\n",
              "      <td>M</td>\n",
              "      <td>B</td>\n",
              "      <td>50</td>\n",
              "      <td>0</td>\n",
              "      <td>25-44</td>\n",
              "      <td>M</td>\n",
              "      <td>WHITE HISPANIC</td>\n",
              "      <td>1011047</td>\n",
              "      <td>256269</td>\n",
              "      <td>40.870041</td>\n",
              "      <td>-73.903112</td>\n",
              "      <td>POINT (-73.90311219699998 40.870041281000056)</td>\n",
              "    </tr>\n",
              "    <tr>\n",
              "      <th>115297</th>\n",
              "      <td>222728174</td>\n",
              "      <td>01/07/2021</td>\n",
              "      <td>339.0</td>\n",
              "      <td>LARCENY,PETIT FROM OPEN AREAS,</td>\n",
              "      <td>341.0</td>\n",
              "      <td>PETIT LARCENY</td>\n",
              "      <td>PL 1552500</td>\n",
              "      <td>M</td>\n",
              "      <td>Q</td>\n",
              "      <td>114</td>\n",
              "      <td>0</td>\n",
              "      <td>25-44</td>\n",
              "      <td>M</td>\n",
              "      <td>WHITE HISPANIC</td>\n",
              "      <td>1007694</td>\n",
              "      <td>219657</td>\n",
              "      <td>40.769561</td>\n",
              "      <td>-73.915363</td>\n",
              "      <td>POINT (-73.91536344699995 40.76956124200007)</td>\n",
              "    </tr>\n",
              "    <tr>\n",
              "      <th>115298</th>\n",
              "      <td>222535613</td>\n",
              "      <td>01/03/2021</td>\n",
              "      <td>792.0</td>\n",
              "      <td>WEAPONS POSSESSION 1 &amp; 2</td>\n",
              "      <td>118.0</td>\n",
              "      <td>DANGEROUS WEAPONS</td>\n",
              "      <td>PL 265031B</td>\n",
              "      <td>F</td>\n",
              "      <td>K</td>\n",
              "      <td>67</td>\n",
              "      <td>0</td>\n",
              "      <td>25-44</td>\n",
              "      <td>M</td>\n",
              "      <td>BLACK</td>\n",
              "      <td>1000054</td>\n",
              "      <td>173952</td>\n",
              "      <td>40.644129</td>\n",
              "      <td>-73.943053</td>\n",
              "      <td>POINT (-73.94305278599995 40.64412879400004)</td>\n",
              "    </tr>\n",
              "  </tbody>\n",
              "</table>\n",
              "</div>\n",
              "      <button class=\"colab-df-convert\" onclick=\"convertToInteractive('df-f99fd0bd-046a-403e-b86a-cf628e9d9f04')\"\n",
              "              title=\"Convert this dataframe to an interactive table.\"\n",
              "              style=\"display:none;\">\n",
              "        \n",
              "  <svg xmlns=\"http://www.w3.org/2000/svg\" height=\"24px\"viewBox=\"0 0 24 24\"\n",
              "       width=\"24px\">\n",
              "    <path d=\"M0 0h24v24H0V0z\" fill=\"none\"/>\n",
              "    <path d=\"M18.56 5.44l.94 2.06.94-2.06 2.06-.94-2.06-.94-.94-2.06-.94 2.06-2.06.94zm-11 1L8.5 8.5l.94-2.06 2.06-.94-2.06-.94L8.5 2.5l-.94 2.06-2.06.94zm10 10l.94 2.06.94-2.06 2.06-.94-2.06-.94-.94-2.06-.94 2.06-2.06.94z\"/><path d=\"M17.41 7.96l-1.37-1.37c-.4-.4-.92-.59-1.43-.59-.52 0-1.04.2-1.43.59L10.3 9.45l-7.72 7.72c-.78.78-.78 2.05 0 2.83L4 21.41c.39.39.9.59 1.41.59.51 0 1.02-.2 1.41-.59l7.78-7.78 2.81-2.81c.8-.78.8-2.07 0-2.86zM5.41 20L4 18.59l7.72-7.72 1.47 1.35L5.41 20z\"/>\n",
              "  </svg>\n",
              "      </button>\n",
              "      \n",
              "  <style>\n",
              "    .colab-df-container {\n",
              "      display:flex;\n",
              "      flex-wrap:wrap;\n",
              "      gap: 12px;\n",
              "    }\n",
              "\n",
              "    .colab-df-convert {\n",
              "      background-color: #E8F0FE;\n",
              "      border: none;\n",
              "      border-radius: 50%;\n",
              "      cursor: pointer;\n",
              "      display: none;\n",
              "      fill: #1967D2;\n",
              "      height: 32px;\n",
              "      padding: 0 0 0 0;\n",
              "      width: 32px;\n",
              "    }\n",
              "\n",
              "    .colab-df-convert:hover {\n",
              "      background-color: #E2EBFA;\n",
              "      box-shadow: 0px 1px 2px rgba(60, 64, 67, 0.3), 0px 1px 3px 1px rgba(60, 64, 67, 0.15);\n",
              "      fill: #174EA6;\n",
              "    }\n",
              "\n",
              "    [theme=dark] .colab-df-convert {\n",
              "      background-color: #3B4455;\n",
              "      fill: #D2E3FC;\n",
              "    }\n",
              "\n",
              "    [theme=dark] .colab-df-convert:hover {\n",
              "      background-color: #434B5C;\n",
              "      box-shadow: 0px 1px 3px 1px rgba(0, 0, 0, 0.15);\n",
              "      filter: drop-shadow(0px 1px 2px rgba(0, 0, 0, 0.3));\n",
              "      fill: #FFFFFF;\n",
              "    }\n",
              "  </style>\n",
              "\n",
              "      <script>\n",
              "        const buttonEl =\n",
              "          document.querySelector('#df-f99fd0bd-046a-403e-b86a-cf628e9d9f04 button.colab-df-convert');\n",
              "        buttonEl.style.display =\n",
              "          google.colab.kernel.accessAllowed ? 'block' : 'none';\n",
              "\n",
              "        async function convertToInteractive(key) {\n",
              "          const element = document.querySelector('#df-f99fd0bd-046a-403e-b86a-cf628e9d9f04');\n",
              "          const dataTable =\n",
              "            await google.colab.kernel.invokeFunction('convertToInteractive',\n",
              "                                                     [key], {});\n",
              "          if (!dataTable) return;\n",
              "\n",
              "          const docLinkHtml = 'Like what you see? Visit the ' +\n",
              "            '<a target=\"_blank\" href=https://colab.research.google.com/notebooks/data_table.ipynb>data table notebook</a>'\n",
              "            + ' to learn more about interactive tables.';\n",
              "          element.innerHTML = '';\n",
              "          dataTable['output_type'] = 'display_data';\n",
              "          await google.colab.output.renderOutput(dataTable, element);\n",
              "          const docLink = document.createElement('div');\n",
              "          docLink.innerHTML = docLinkHtml;\n",
              "          element.appendChild(docLink);\n",
              "        }\n",
              "      </script>\n",
              "    </div>\n",
              "  </div>\n",
              "  "
            ],
            "text/plain": [
              "        ARREST_KEY  ...                       New Georeferenced Column\n",
              "115294   222689440  ...   POINT (-73.83112953899997 40.69843969400005)\n",
              "115295   222626401  ...   POINT (-73.84390995399998 40.85580274300003)\n",
              "115296   222477062  ...  POINT (-73.90311219699998 40.870041281000056)\n",
              "115297   222728174  ...   POINT (-73.91536344699995 40.76956124200007)\n",
              "115298   222535613  ...   POINT (-73.94305278599995 40.64412879400004)\n",
              "\n",
              "[5 rows x 19 columns]"
            ]
          },
          "metadata": {},
          "execution_count": 98
        }
      ]
    },
    {
      "cell_type": "code",
      "source": [
        "df.columns"
      ],
      "metadata": {
        "colab": {
          "base_uri": "https://localhost:8080/"
        },
        "id": "e0s0rhcC_VCK",
        "outputId": "55f702b0-2214-45a3-a983-8bce74ebd571"
      },
      "execution_count": 99,
      "outputs": [
        {
          "output_type": "execute_result",
          "data": {
            "text/plain": [
              "Index(['ARREST_KEY', 'ARREST_DATE', 'PD_CD', 'PD_DESC', 'KY_CD', 'OFNS_DESC',\n",
              "       'LAW_CODE', 'LAW_CAT_CD', 'ARREST_BORO', 'ARREST_PRECINCT',\n",
              "       'JURISDICTION_CODE', 'AGE_GROUP', 'PERP_SEX', 'PERP_RACE', 'X_COORD_CD',\n",
              "       'Y_COORD_CD', 'Latitude', 'Longitude', 'New Georeferenced Column'],\n",
              "      dtype='object')"
            ]
          },
          "metadata": {},
          "execution_count": 99
        }
      ]
    },
    {
      "cell_type": "code",
      "source": [
        "df.shape"
      ],
      "metadata": {
        "colab": {
          "base_uri": "https://localhost:8080/"
        },
        "id": "zzo7oszQ_MFm",
        "outputId": "9a214d63-3284-4c22-eccb-45a08e31462d"
      },
      "execution_count": 100,
      "outputs": [
        {
          "output_type": "execute_result",
          "data": {
            "text/plain": [
              "(115299, 19)"
            ]
          },
          "metadata": {},
          "execution_count": 100
        }
      ]
    },
    {
      "cell_type": "code",
      "source": [
        "df.dtypes"
      ],
      "metadata": {
        "colab": {
          "base_uri": "https://localhost:8080/"
        },
        "id": "6pUtkkLZWt8e",
        "outputId": "7d8c0b88-e960-4612-98e3-f71a23a5eecf"
      },
      "execution_count": 101,
      "outputs": [
        {
          "output_type": "execute_result",
          "data": {
            "text/plain": [
              "ARREST_KEY                    int64\n",
              "ARREST_DATE                  object\n",
              "PD_CD                       float64\n",
              "PD_DESC                      object\n",
              "KY_CD                       float64\n",
              "OFNS_DESC                    object\n",
              "LAW_CODE                     object\n",
              "LAW_CAT_CD                   object\n",
              "ARREST_BORO                  object\n",
              "ARREST_PRECINCT               int64\n",
              "JURISDICTION_CODE             int64\n",
              "AGE_GROUP                    object\n",
              "PERP_SEX                     object\n",
              "PERP_RACE                    object\n",
              "X_COORD_CD                    int64\n",
              "Y_COORD_CD                    int64\n",
              "Latitude                    float64\n",
              "Longitude                   float64\n",
              "New Georeferenced Column     object\n",
              "dtype: object"
            ]
          },
          "metadata": {},
          "execution_count": 101
        }
      ]
    },
    {
      "cell_type": "code",
      "source": [
        "df.count()"
      ],
      "metadata": {
        "colab": {
          "base_uri": "https://localhost:8080/"
        },
        "id": "rQKz-0phW8B2",
        "outputId": "083d4986-1b6a-4273-cfdb-1893d715f97e"
      },
      "execution_count": 102,
      "outputs": [
        {
          "output_type": "execute_result",
          "data": {
            "text/plain": [
              "ARREST_KEY                  115299\n",
              "ARREST_DATE                 115299\n",
              "PD_CD                       115278\n",
              "PD_DESC                     115238\n",
              "KY_CD                       115238\n",
              "OFNS_DESC                   115238\n",
              "LAW_CODE                    115299\n",
              "LAW_CAT_CD                  114221\n",
              "ARREST_BORO                 115299\n",
              "ARREST_PRECINCT             115299\n",
              "JURISDICTION_CODE           115299\n",
              "AGE_GROUP                   115299\n",
              "PERP_SEX                    115299\n",
              "PERP_RACE                   115299\n",
              "X_COORD_CD                  115299\n",
              "Y_COORD_CD                  115299\n",
              "Latitude                    115299\n",
              "Longitude                   115299\n",
              "New Georeferenced Column    115299\n",
              "dtype: int64"
            ]
          },
          "metadata": {},
          "execution_count": 102
        }
      ]
    },
    {
      "cell_type": "code",
      "source": [
        "drop_cols=[\"PD_CD\", \"PD_DESC\", \"KY_CD\", \"OFNS_DESC\", \"LAW_CODE\", \"LAW_CAT_CD\",\"X_COORD_CD\", \"Y_COORD_CD\", \"Latitude\", \"Longitude\", \"New Georeferenced Column\"]"
      ],
      "metadata": {
        "id": "kg64oWi5gHED"
      },
      "execution_count": 103,
      "outputs": []
    },
    {
      "cell_type": "code",
      "source": [
        "df.drop(drop_cols, inplace = True, axis=1)"
      ],
      "metadata": {
        "id": "oaMugkiPgKQK"
      },
      "execution_count": 104,
      "outputs": []
    },
    {
      "cell_type": "code",
      "source": [
        "df['ARREST_BORO'].replace({\"B\": \"Bronx\", \"K\": \"Brooklyn\", \"M\": \"Manhattan\", \"Q\": \"Queens\", \"S\": \"Staten Island\"}, inplace=True)"
      ],
      "metadata": {
        "id": "T-ar7ZAXi5yE"
      },
      "execution_count": 105,
      "outputs": []
    },
    {
      "cell_type": "code",
      "source": [
        "df.groupby([\"ARREST_BORO\"])['ARREST_KEY'].count().sort_values(ascending=False)"
      ],
      "metadata": {
        "colab": {
          "base_uri": "https://localhost:8080/"
        },
        "id": "s1WYosWJXhiv",
        "outputId": "56aaf425-93c0-41c0-d765-df23d5bd01fc"
      },
      "execution_count": 106,
      "outputs": [
        {
          "output_type": "execute_result",
          "data": {
            "text/plain": [
              "ARREST_BORO\n",
              "Brooklyn         31004\n",
              "Manhattan        28948\n",
              "Bronx            25312\n",
              "Queens           24654\n",
              "Staten Island     5381\n",
              "Name: ARREST_KEY, dtype: int64"
            ]
          },
          "metadata": {},
          "execution_count": 106
        }
      ]
    },
    {
      "cell_type": "code",
      "source": [
        "df.groupby([\"JURISDICTION_CODE\"])['ARREST_KEY'].count().sort_values(ascending=False)"
      ],
      "metadata": {
        "colab": {
          "base_uri": "https://localhost:8080/"
        },
        "id": "DCUhI-1IXzcA",
        "outputId": "79c57cee-8935-4545-d8cd-36a052424709"
      },
      "execution_count": 107,
      "outputs": [
        {
          "output_type": "execute_result",
          "data": {
            "text/plain": [
              "JURISDICTION_CODE\n",
              "0     105588\n",
              "2       3803\n",
              "1       3162\n",
              "3       1034\n",
              "97       493\n",
              "15       262\n",
              "72       189\n",
              "11       187\n",
              "73       142\n",
              "71       125\n",
              "14        89\n",
              "7         83\n",
              "4         69\n",
              "87        24\n",
              "13        11\n",
              "6         10\n",
              "88         8\n",
              "85         8\n",
              "69         3\n",
              "74         3\n",
              "16         2\n",
              "12         1\n",
              "9          1\n",
              "8          1\n",
              "76         1\n",
              "Name: ARREST_KEY, dtype: int64"
            ]
          },
          "metadata": {},
          "execution_count": 107
        }
      ]
    },
    {
      "cell_type": "code",
      "source": [
        "115299 - (105588 + 3803+ 3162)\n",
        "#The number of arrests that are NOT Patrol, Transit, or Housing."
      ],
      "metadata": {
        "colab": {
          "base_uri": "https://localhost:8080/"
        },
        "id": "E_NIFUczygCB",
        "outputId": "fde32677-906e-4eab-b698-fe5f2dac27d1"
      },
      "execution_count": 108,
      "outputs": [
        {
          "output_type": "execute_result",
          "data": {
            "text/plain": [
              "2746"
            ]
          },
          "metadata": {},
          "execution_count": 108
        }
      ]
    },
    {
      "cell_type": "code",
      "source": [
        "(115299 - 2746)/115299\n",
        "#This is the percentage of arrests from either patrol, housing or transit.  Since its such a high percentage, I will create a new df just looking at those arrests."
      ],
      "metadata": {
        "colab": {
          "base_uri": "https://localhost:8080/"
        },
        "id": "rGXl8XjPYQ7T",
        "outputId": "7079ad37-5922-4bba-fb23-9c8ca890ff17"
      },
      "execution_count": 109,
      "outputs": [
        {
          "output_type": "execute_result",
          "data": {
            "text/plain": [
              "0.9761836616102482"
            ]
          },
          "metadata": {},
          "execution_count": 109
        }
      ]
    },
    {
      "cell_type": "code",
      "source": [
        "df[\"JURISDICTION_CODE\"].replace({0: \"Patrol\", 1: \"Transit\", 2: \"Housing\"}, inplace=True)"
      ],
      "metadata": {
        "id": "V-qNUh4XwHjI"
      },
      "execution_count": 110,
      "outputs": []
    },
    {
      "cell_type": "code",
      "source": [
        "arrests = [\"Patrol\",\"Transit\",\"Housing\"]\n",
        "\n",
        "df1 = df[df[\"JURISDICTION_CODE\"].isin(arrests)]"
      ],
      "metadata": {
        "id": "zCn8POHC7H9r"
      },
      "execution_count": 112,
      "outputs": []
    },
    {
      "cell_type": "code",
      "source": [
        "df1.groupby([\"JURISDICTION_CODE\"])['ARREST_KEY'].count().sort_values(ascending=False)"
      ],
      "metadata": {
        "colab": {
          "base_uri": "https://localhost:8080/"
        },
        "id": "d7FEMUrx71NY",
        "outputId": "31a43c94-2f4b-4493-dd23-02ded0159dec"
      },
      "execution_count": 113,
      "outputs": [
        {
          "output_type": "execute_result",
          "data": {
            "text/plain": [
              "JURISDICTION_CODE\n",
              "Patrol     105588\n",
              "Housing      3803\n",
              "Transit      3162\n",
              "Name: ARREST_KEY, dtype: int64"
            ]
          },
          "metadata": {},
          "execution_count": 113
        }
      ]
    },
    {
      "cell_type": "code",
      "source": [
        "#Research question:  How do the 3 top arrest jurisdictions compare by borough?  "
      ],
      "metadata": {
        "id": "VAwTQpyFuByv"
      },
      "execution_count": 117,
      "outputs": []
    },
    {
      "cell_type": "code",
      "source": [
        "sns.countplot(x=\"ARREST_BORO\", data=df1, order = df1[\"ARREST_BORO\"].value_counts().index)\n",
        "#Before disaggregating Jurisdiction code, I first wanted to see again what the overall numbers by borough looked like."
      ],
      "metadata": {
        "colab": {
          "base_uri": "https://localhost:8080/",
          "height": 302
        },
        "id": "qDmLHQXVenua",
        "outputId": "cc113ff2-0847-45da-d552-a5b89d6fe5cf"
      },
      "execution_count": 118,
      "outputs": [
        {
          "output_type": "execute_result",
          "data": {
            "text/plain": [
              "<matplotlib.axes._subplots.AxesSubplot at 0x7f67af51e8d0>"
            ]
          },
          "metadata": {},
          "execution_count": 118
        },
        {
          "output_type": "display_data",
          "data": {
            "image/png": "[encoded data removed]",
            "text/plain": [
              "<Figure size 432x288 with 1 Axes>"
            ]
          },
          "metadata": {
            "needs_background": "light"
          }
        }
      ]
    },
    {
      "cell_type": "code",
      "source": [
        "arr_boro = (df1.groupby([\"JURISDICTION_CODE\"])[\"ARREST_BORO\"]\n",
        "                     .value_counts(normalize=True)\n",
        "                     .rename('percentage')\n",
        "                     .mul(100)\n",
        "                     .reset_index()\n",
        "                     .sort_values(\"JURISDICTION_CODE\"))\n",
        "p = sns.barplot(x=\"JURISDICTION_CODE\", y=\"percentage\", hue=\"ARREST_BORO\", data=arr_boro)\n",
        "_ = plt.setp(p.get_xticklabels(), rotation=90)\n",
        "plt.legend(bbox_to_anchor=(1.05, 1), loc='upper left', borderaxespad=0)\n",
        "plt.title('Arrests by Jurisdiction and Borough', fontsize=20)\n",
        "#Since there was a much higher number of arrests by patrol, I changed the y-axis to percentage to get a better idea of how each jurisdiction compares to the other."
      ],
      "metadata": {
        "colab": {
          "base_uri": "https://localhost:8080/",
          "height": 358
        },
        "id": "xWtMgpHs9Ex8",
        "outputId": "65284d1d-a5ff-4496-a6c0-21d5a26b2303"
      },
      "execution_count": 119,
      "outputs": [
        {
          "output_type": "execute_result",
          "data": {
            "text/plain": [
              "Text(0.5, 1.0, 'Arrests by Jurisdiction and Borough')"
            ]
          },
          "metadata": {},
          "execution_count": 119
        },
        {
          "output_type": "display_data",
          "data": {
            "image/png": "[encoded data removed]",
            "text/plain": [
              "<Figure size 432x288 with 1 Axes>"
            ]
          },
          "metadata": {
            "needs_background": "light"
          }
        }
      ]
    },
    {
      "cell_type": "markdown",
      "source": [
        "**Conclusion:  While Brooklyn had a higher percentage of patrol arrests (though not much higher than Manhattan, Bronx and Queens), a higher percentage of arrests by transit and housing police were made in Manhattan. **"
      ],
      "metadata": {
        "id": "7f-EiXTVov_S"
      }
    }
  ]
}