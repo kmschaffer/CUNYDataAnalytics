{
  "nbformat": 4,
  "nbformat_minor": 0,
  "metadata": {
    "colab": {
      "name": "Capstone.ipynb",
      "provenance": []
    },
    "kernelspec": {
      "name": "python3",
      "display_name": "Python 3"
    },
    "language_info": {
      "name": "python"
    }
  },
  "cells": [
    {
      "cell_type": "code",
      "execution_count": 1,
      "metadata": {
        "id": "Do1EIsVqAAqv"
      },
      "outputs": [],
      "source": [
        "import pandas as pd\n",
        "import numpy as np\n",
        "import seaborn as sns\n",
        "import matplotlib.pyplot as plt\n",
        "%matplotlib inline"
      ]
    },
    {
      "cell_type": "code",
      "source": [
        "df = pd.read_csv (\"https://raw.githubusercontent.com/kmschaffer/CUNYDataAnalytics/main/New_York_City_Leading_Causes_of_Death.csv\")\n",
        "#I downloaded this data set from NYC Open Data and saved it in my github."
      ],
      "metadata": {
        "id": "0M1xfA-0AHHR"
      },
      "execution_count": 2,
      "outputs": []
    },
    {
      "cell_type": "code",
      "source": [
        "df.head()"
      ],
      "metadata": {
        "colab": {
          "base_uri": "https://localhost:8080/",
          "height": 206
        },
        "id": "pnEQ4fOBAOdP",
        "outputId": "631028dd-f11f-4b2b-8c34-a007f1a5e78f"
      },
      "execution_count": 3,
      "outputs": [
        {
          "output_type": "execute_result",
          "data": {
            "text/html": [
              "\n",
              "  <div id=\"df-6743485a-fffb-4cfa-80d6-73773c5d946c\">\n",
              "    <div class=\"colab-df-container\">\n",
              "      <div>\n",
              "<style scoped>\n",
              "    .dataframe tbody tr th:only-of-type {\n",
              "        vertical-align: middle;\n",
              "    }\n",
              "\n",
              "    .dataframe tbody tr th {\n",
              "        vertical-align: top;\n",
              "    }\n",
              "\n",
              "    .dataframe thead th {\n",
              "        text-align: right;\n",
              "    }\n",
              "</style>\n",
              "<table border=\"1\" class=\"dataframe\">\n",
              "  <thead>\n",
              "    <tr style=\"text-align: right;\">\n",
              "      <th></th>\n",
              "      <th>Year</th>\n",
              "      <th>Leading Cause</th>\n",
              "      <th>Sex</th>\n",
              "      <th>Race Ethnicity</th>\n",
              "      <th>Deaths</th>\n",
              "      <th>Death Rate</th>\n",
              "      <th>Age Adjusted Death Rate</th>\n",
              "    </tr>\n",
              "  </thead>\n",
              "  <tbody>\n",
              "    <tr>\n",
              "      <th>0</th>\n",
              "      <td>2009</td>\n",
              "      <td>Nephritis, Nephrotic Syndrome and Nephrisis (N...</td>\n",
              "      <td>F</td>\n",
              "      <td>Other Race/ Ethnicity</td>\n",
              "      <td>.</td>\n",
              "      <td>.</td>\n",
              "      <td>.</td>\n",
              "    </tr>\n",
              "    <tr>\n",
              "      <th>1</th>\n",
              "      <td>2013</td>\n",
              "      <td>Influenza (Flu) and Pneumonia (J09-J18)</td>\n",
              "      <td>F</td>\n",
              "      <td>Hispanic</td>\n",
              "      <td>204</td>\n",
              "      <td>16.3</td>\n",
              "      <td>18.5</td>\n",
              "    </tr>\n",
              "    <tr>\n",
              "      <th>2</th>\n",
              "      <td>2012</td>\n",
              "      <td>Assault (Homicide: Y87.1, X85-Y09)</td>\n",
              "      <td>M</td>\n",
              "      <td>Other Race/ Ethnicity</td>\n",
              "      <td>.</td>\n",
              "      <td>.</td>\n",
              "      <td>.</td>\n",
              "    </tr>\n",
              "    <tr>\n",
              "      <th>3</th>\n",
              "      <td>2007</td>\n",
              "      <td>Essential Hypertension and Renal Diseases (I10...</td>\n",
              "      <td>F</td>\n",
              "      <td>Not Stated/Unknown</td>\n",
              "      <td>5</td>\n",
              "      <td>.</td>\n",
              "      <td>.</td>\n",
              "    </tr>\n",
              "    <tr>\n",
              "      <th>4</th>\n",
              "      <td>2014</td>\n",
              "      <td>Cerebrovascular Disease (Stroke: I60-I69)</td>\n",
              "      <td>F</td>\n",
              "      <td>White Non-Hispanic</td>\n",
              "      <td>418</td>\n",
              "      <td>29.5</td>\n",
              "      <td>15.6</td>\n",
              "    </tr>\n",
              "  </tbody>\n",
              "</table>\n",
              "</div>\n",
              "      <button class=\"colab-df-convert\" onclick=\"convertToInteractive('df-6743485a-fffb-4cfa-80d6-73773c5d946c')\"\n",
              "              title=\"Convert this dataframe to an interactive table.\"\n",
              "              style=\"display:none;\">\n",
              "        \n",
              "  <svg xmlns=\"http://www.w3.org/2000/svg\" height=\"24px\"viewBox=\"0 0 24 24\"\n",
              "       width=\"24px\">\n",
              "    <path d=\"M0 0h24v24H0V0z\" fill=\"none\"/>\n",
              "    <path d=\"M18.56 5.44l.94 2.06.94-2.06 2.06-.94-2.06-.94-.94-2.06-.94 2.06-2.06.94zm-11 1L8.5 8.5l.94-2.06 2.06-.94-2.06-.94L8.5 2.5l-.94 2.06-2.06.94zm10 10l.94 2.06.94-2.06 2.06-.94-2.06-.94-.94-2.06-.94 2.06-2.06.94z\"/><path d=\"M17.41 7.96l-1.37-1.37c-.4-.4-.92-.59-1.43-.59-.52 0-1.04.2-1.43.59L10.3 9.45l-7.72 7.72c-.78.78-.78 2.05 0 2.83L4 21.41c.39.39.9.59 1.41.59.51 0 1.02-.2 1.41-.59l7.78-7.78 2.81-2.81c.8-.78.8-2.07 0-2.86zM5.41 20L4 18.59l7.72-7.72 1.47 1.35L5.41 20z\"/>\n",
              "  </svg>\n",
              "      </button>\n",
              "      \n",
              "  <style>\n",
              "    .colab-df-container {\n",
              "      display:flex;\n",
              "      flex-wrap:wrap;\n",
              "      gap: 12px;\n",
              "    }\n",
              "\n",
              "    .colab-df-convert {\n",
              "      background-color: #E8F0FE;\n",
              "      border: none;\n",
              "      border-radius: 50%;\n",
              "      cursor: pointer;\n",
              "      display: none;\n",
              "      fill: #1967D2;\n",
              "      height: 32px;\n",
              "      padding: 0 0 0 0;\n",
              "      width: 32px;\n",
              "    }\n",
              "\n",
              "    .colab-df-convert:hover {\n",
              "      background-color: #E2EBFA;\n",
              "      box-shadow: 0px 1px 2px rgba(60, 64, 67, 0.3), 0px 1px 3px 1px rgba(60, 64, 67, 0.15);\n",
              "      fill: #174EA6;\n",
              "    }\n",
              "\n",
              "    [theme=dark] .colab-df-convert {\n",
              "      background-color: #3B4455;\n",
              "      fill: #D2E3FC;\n",
              "    }\n",
              "\n",
              "    [theme=dark] .colab-df-convert:hover {\n",
              "      background-color: #434B5C;\n",
              "      box-shadow: 0px 1px 3px 1px rgba(0, 0, 0, 0.15);\n",
              "      filter: drop-shadow(0px 1px 2px rgba(0, 0, 0, 0.3));\n",
              "      fill: #FFFFFF;\n",
              "    }\n",
              "  </style>\n",
              "\n",
              "      <script>\n",
              "        const buttonEl =\n",
              "          document.querySelector('#df-6743485a-fffb-4cfa-80d6-73773c5d946c button.colab-df-convert');\n",
              "        buttonEl.style.display =\n",
              "          google.colab.kernel.accessAllowed ? 'block' : 'none';\n",
              "\n",
              "        async function convertToInteractive(key) {\n",
              "          const element = document.querySelector('#df-6743485a-fffb-4cfa-80d6-73773c5d946c');\n",
              "          const dataTable =\n",
              "            await google.colab.kernel.invokeFunction('convertToInteractive',\n",
              "                                                     [key], {});\n",
              "          if (!dataTable) return;\n",
              "\n",
              "          const docLinkHtml = 'Like what you see? Visit the ' +\n",
              "            '<a target=\"_blank\" href=https://colab.research.google.com/notebooks/data_table.ipynb>data table notebook</a>'\n",
              "            + ' to learn more about interactive tables.';\n",
              "          element.innerHTML = '';\n",
              "          dataTable['output_type'] = 'display_data';\n",
              "          await google.colab.output.renderOutput(dataTable, element);\n",
              "          const docLink = document.createElement('div');\n",
              "          docLink.innerHTML = docLinkHtml;\n",
              "          element.appendChild(docLink);\n",
              "        }\n",
              "      </script>\n",
              "    </div>\n",
              "  </div>\n",
              "  "
            ],
            "text/plain": [
              "   Year  ... Age Adjusted Death Rate\n",
              "0  2009  ...                       .\n",
              "1  2013  ...                    18.5\n",
              "2  2012  ...                       .\n",
              "3  2007  ...                       .\n",
              "4  2014  ...                    15.6\n",
              "\n",
              "[5 rows x 7 columns]"
            ]
          },
          "metadata": {},
          "execution_count": 3
        }
      ]
    },
    {
      "cell_type": "code",
      "source": [
        "df.tail()"
      ],
      "metadata": {
        "colab": {
          "base_uri": "https://localhost:8080/",
          "height": 206
        },
        "id": "XH5yR_GBAcNG",
        "outputId": "b4fa2557-48fc-40b9-cb6c-59d1ba4de23e"
      },
      "execution_count": 4,
      "outputs": [
        {
          "output_type": "execute_result",
          "data": {
            "text/html": [
              "\n",
              "  <div id=\"df-b019d303-05f2-43e5-8120-64444fdfb36f\">\n",
              "    <div class=\"colab-df-container\">\n",
              "      <div>\n",
              "<style scoped>\n",
              "    .dataframe tbody tr th:only-of-type {\n",
              "        vertical-align: middle;\n",
              "    }\n",
              "\n",
              "    .dataframe tbody tr th {\n",
              "        vertical-align: top;\n",
              "    }\n",
              "\n",
              "    .dataframe thead th {\n",
              "        text-align: right;\n",
              "    }\n",
              "</style>\n",
              "<table border=\"1\" class=\"dataframe\">\n",
              "  <thead>\n",
              "    <tr style=\"text-align: right;\">\n",
              "      <th></th>\n",
              "      <th>Year</th>\n",
              "      <th>Leading Cause</th>\n",
              "      <th>Sex</th>\n",
              "      <th>Race Ethnicity</th>\n",
              "      <th>Deaths</th>\n",
              "      <th>Death Rate</th>\n",
              "      <th>Age Adjusted Death Rate</th>\n",
              "    </tr>\n",
              "  </thead>\n",
              "  <tbody>\n",
              "    <tr>\n",
              "      <th>1089</th>\n",
              "      <td>2008</td>\n",
              "      <td>Influenza (Flu) and Pneumonia (J09-J18)</td>\n",
              "      <td>M</td>\n",
              "      <td>Not Stated/Unknown</td>\n",
              "      <td>11</td>\n",
              "      <td>.</td>\n",
              "      <td>.</td>\n",
              "    </tr>\n",
              "    <tr>\n",
              "      <th>1090</th>\n",
              "      <td>2007</td>\n",
              "      <td>Diseases of Heart (I00-I09, I11, I13, I20-I51)</td>\n",
              "      <td>M</td>\n",
              "      <td>Not Stated/Unknown</td>\n",
              "      <td>86</td>\n",
              "      <td>.</td>\n",
              "      <td>.</td>\n",
              "    </tr>\n",
              "    <tr>\n",
              "      <th>1091</th>\n",
              "      <td>2008</td>\n",
              "      <td>Malignant Neoplasms (Cancer: C00-C97)</td>\n",
              "      <td>M</td>\n",
              "      <td>Black Non-Hispanic</td>\n",
              "      <td>1464</td>\n",
              "      <td>172.4</td>\n",
              "      <td>220.4</td>\n",
              "    </tr>\n",
              "    <tr>\n",
              "      <th>1092</th>\n",
              "      <td>2014</td>\n",
              "      <td>Diabetes Mellitus (E10-E14)</td>\n",
              "      <td>F</td>\n",
              "      <td>Other Race/ Ethnicity</td>\n",
              "      <td>11</td>\n",
              "      <td>.</td>\n",
              "      <td>.</td>\n",
              "    </tr>\n",
              "    <tr>\n",
              "      <th>1093</th>\n",
              "      <td>2009</td>\n",
              "      <td>Accidents Except Drug Posioning (V01-X39, X43,...</td>\n",
              "      <td>M</td>\n",
              "      <td>Asian and Pacific Islander</td>\n",
              "      <td>55</td>\n",
              "      <td>10.8</td>\n",
              "      <td>12.3</td>\n",
              "    </tr>\n",
              "  </tbody>\n",
              "</table>\n",
              "</div>\n",
              "      <button class=\"colab-df-convert\" onclick=\"convertToInteractive('df-b019d303-05f2-43e5-8120-64444fdfb36f')\"\n",
              "              title=\"Convert this dataframe to an interactive table.\"\n",
              "              style=\"display:none;\">\n",
              "        \n",
              "  <svg xmlns=\"http://www.w3.org/2000/svg\" height=\"24px\"viewBox=\"0 0 24 24\"\n",
              "       width=\"24px\">\n",
              "    <path d=\"M0 0h24v24H0V0z\" fill=\"none\"/>\n",
              "    <path d=\"M18.56 5.44l.94 2.06.94-2.06 2.06-.94-2.06-.94-.94-2.06-.94 2.06-2.06.94zm-11 1L8.5 8.5l.94-2.06 2.06-.94-2.06-.94L8.5 2.5l-.94 2.06-2.06.94zm10 10l.94 2.06.94-2.06 2.06-.94-2.06-.94-.94-2.06-.94 2.06-2.06.94z\"/><path d=\"M17.41 7.96l-1.37-1.37c-.4-.4-.92-.59-1.43-.59-.52 0-1.04.2-1.43.59L10.3 9.45l-7.72 7.72c-.78.78-.78 2.05 0 2.83L4 21.41c.39.39.9.59 1.41.59.51 0 1.02-.2 1.41-.59l7.78-7.78 2.81-2.81c.8-.78.8-2.07 0-2.86zM5.41 20L4 18.59l7.72-7.72 1.47 1.35L5.41 20z\"/>\n",
              "  </svg>\n",
              "      </button>\n",
              "      \n",
              "  <style>\n",
              "    .colab-df-container {\n",
              "      display:flex;\n",
              "      flex-wrap:wrap;\n",
              "      gap: 12px;\n",
              "    }\n",
              "\n",
              "    .colab-df-convert {\n",
              "      background-color: #E8F0FE;\n",
              "      border: none;\n",
              "      border-radius: 50%;\n",
              "      cursor: pointer;\n",
              "      display: none;\n",
              "      fill: #1967D2;\n",
              "      height: 32px;\n",
              "      padding: 0 0 0 0;\n",
              "      width: 32px;\n",
              "    }\n",
              "\n",
              "    .colab-df-convert:hover {\n",
              "      background-color: #E2EBFA;\n",
              "      box-shadow: 0px 1px 2px rgba(60, 64, 67, 0.3), 0px 1px 3px 1px rgba(60, 64, 67, 0.15);\n",
              "      fill: #174EA6;\n",
              "    }\n",
              "\n",
              "    [theme=dark] .colab-df-convert {\n",
              "      background-color: #3B4455;\n",
              "      fill: #D2E3FC;\n",
              "    }\n",
              "\n",
              "    [theme=dark] .colab-df-convert:hover {\n",
              "      background-color: #434B5C;\n",
              "      box-shadow: 0px 1px 3px 1px rgba(0, 0, 0, 0.15);\n",
              "      filter: drop-shadow(0px 1px 2px rgba(0, 0, 0, 0.3));\n",
              "      fill: #FFFFFF;\n",
              "    }\n",
              "  </style>\n",
              "\n",
              "      <script>\n",
              "        const buttonEl =\n",
              "          document.querySelector('#df-b019d303-05f2-43e5-8120-64444fdfb36f button.colab-df-convert');\n",
              "        buttonEl.style.display =\n",
              "          google.colab.kernel.accessAllowed ? 'block' : 'none';\n",
              "\n",
              "        async function convertToInteractive(key) {\n",
              "          const element = document.querySelector('#df-b019d303-05f2-43e5-8120-64444fdfb36f');\n",
              "          const dataTable =\n",
              "            await google.colab.kernel.invokeFunction('convertToInteractive',\n",
              "                                                     [key], {});\n",
              "          if (!dataTable) return;\n",
              "\n",
              "          const docLinkHtml = 'Like what you see? Visit the ' +\n",
              "            '<a target=\"_blank\" href=https://colab.research.google.com/notebooks/data_table.ipynb>data table notebook</a>'\n",
              "            + ' to learn more about interactive tables.';\n",
              "          element.innerHTML = '';\n",
              "          dataTable['output_type'] = 'display_data';\n",
              "          await google.colab.output.renderOutput(dataTable, element);\n",
              "          const docLink = document.createElement('div');\n",
              "          docLink.innerHTML = docLinkHtml;\n",
              "          element.appendChild(docLink);\n",
              "        }\n",
              "      </script>\n",
              "    </div>\n",
              "  </div>\n",
              "  "
            ],
            "text/plain": [
              "      Year  ... Age Adjusted Death Rate\n",
              "1089  2008  ...                       .\n",
              "1090  2007  ...                       .\n",
              "1091  2008  ...                   220.4\n",
              "1092  2014  ...                       .\n",
              "1093  2009  ...                    12.3\n",
              "\n",
              "[5 rows x 7 columns]"
            ]
          },
          "metadata": {},
          "execution_count": 4
        }
      ]
    },
    {
      "cell_type": "code",
      "source": [
        "df['Year'].unique()\n",
        "#I wanted to see the date range this data is from."
      ],
      "metadata": {
        "colab": {
          "base_uri": "https://localhost:8080/"
        },
        "id": "_BPlWOrQE8J5",
        "outputId": "b56b8465-f2df-4f72-87be-a7000ee989b6"
      },
      "execution_count": 5,
      "outputs": [
        {
          "output_type": "execute_result",
          "data": {
            "text/plain": [
              "array([2009, 2013, 2012, 2007, 2014, 2008, 2011, 2010])"
            ]
          },
          "metadata": {},
          "execution_count": 5
        }
      ]
    },
    {
      "cell_type": "code",
      "source": [
        "df.info()"
      ],
      "metadata": {
        "colab": {
          "base_uri": "https://localhost:8080/"
        },
        "id": "bCZj0HU00fAF",
        "outputId": "a54be316-9fc6-4697-e64f-429b19834273"
      },
      "execution_count": 6,
      "outputs": [
        {
          "output_type": "stream",
          "name": "stdout",
          "text": [
            "<class 'pandas.core.frame.DataFrame'>\n",
            "RangeIndex: 1094 entries, 0 to 1093\n",
            "Data columns (total 7 columns):\n",
            " #   Column                   Non-Null Count  Dtype \n",
            "---  ------                   --------------  ----- \n",
            " 0   Year                     1094 non-null   int64 \n",
            " 1   Leading Cause            1094 non-null   object\n",
            " 2   Sex                      1094 non-null   object\n",
            " 3   Race Ethnicity           1094 non-null   object\n",
            " 4   Deaths                   1094 non-null   object\n",
            " 5   Death Rate               1094 non-null   object\n",
            " 6   Age Adjusted Death Rate  1094 non-null   object\n",
            "dtypes: int64(1), object(6)\n",
            "memory usage: 60.0+ KB\n"
          ]
        }
      ]
    },
    {
      "cell_type": "markdown",
      "source": [
        "Death rate is the ratio of deaths to the population of a particular area or during a particular period of time, usually calculated as the number of deaths per one thousand people per year.  \n",
        "\n",
        "Age adjusted death rate is a death rate that controls for the effects of differences in population age distributions.  When comparing across geographic areas, some method of ageadjusting is typically used to control for the influence that different population age distributions might have on health event rates. "
      ],
      "metadata": {
        "id": "lbcQ_dP3Cx7Q"
      }
    },
    {
      "cell_type": "code",
      "source": [
        "drop_cols= [\"Death Rate\", \"Age Adjusted Death Rate\"]\n",
        "#I decided I wasn't going to use this data, just the total number of deaths."
      ],
      "metadata": {
        "id": "WghsjbvcvGip"
      },
      "execution_count": 7,
      "outputs": []
    },
    {
      "cell_type": "code",
      "source": [
        "df.drop(drop_cols, inplace = True, axis=1)"
      ],
      "metadata": {
        "id": "toUoQMhav9aJ"
      },
      "execution_count": 8,
      "outputs": []
    },
    {
      "cell_type": "code",
      "source": [
        "df[\"Deaths\"] = df[\"Deaths\"].replace('\\.+', np.nan, regex=True)\n",
        "#This code replaces the missing data (in this case it was .) in the Deaths column with NaN."
      ],
      "metadata": {
        "id": "st9vz_HUJvlH"
      },
      "execution_count": 9,
      "outputs": []
    },
    {
      "cell_type": "code",
      "source": [
        "df1 = df.dropna()\n",
        "#I created a new dataframe that does not include rows with missing data."
      ],
      "metadata": {
        "id": "4alcByGS5GEU"
      },
      "execution_count": 10,
      "outputs": []
    },
    {
      "cell_type": "code",
      "source": [
        "df1.count"
      ],
      "metadata": {
        "colab": {
          "base_uri": "https://localhost:8080/"
        },
        "id": "qLs3zBCw2pPB",
        "outputId": "ba8ac8c7-dda2-4979-c673-a9f9a66f21cf"
      },
      "execution_count": 11,
      "outputs": [
        {
          "output_type": "execute_result",
          "data": {
            "text/plain": [
              "<bound method DataFrame.count of       Year  ... Deaths\n",
              "1     2013  ...    204\n",
              "3     2007  ...      5\n",
              "4     2014  ...    418\n",
              "5     2009  ...     26\n",
              "6     2013  ...    618\n",
              "...    ...  ...    ...\n",
              "1089  2008  ...     11\n",
              "1090  2007  ...     86\n",
              "1091  2008  ...   1464\n",
              "1092  2014  ...     11\n",
              "1093  2009  ...     55\n",
              "\n",
              "[956 rows x 5 columns]>"
            ]
          },
          "metadata": {},
          "execution_count": 11
        }
      ]
    },
    {
      "cell_type": "code",
      "source": [
        "nan_values = df1[df1[\"Deaths\"].isna()]\n",
        "print (nan_values)\n",
        "#Double-checking that all of the NaN values were removed."
      ],
      "metadata": {
        "colab": {
          "base_uri": "https://localhost:8080/"
        },
        "id": "5BFoqbjz9Y-d",
        "outputId": "6559c423-0e2e-4b93-fd8f-d81f1e385f98"
      },
      "execution_count": 12,
      "outputs": [
        {
          "output_type": "stream",
          "name": "stdout",
          "text": [
            "Empty DataFrame\n",
            "Columns: [Year, Leading Cause, Sex, Race Ethnicity, Deaths]\n",
            "Index: []\n"
          ]
        }
      ]
    },
    {
      "cell_type": "code",
      "source": [
        " df1[\"Deaths\"] = df1[\"Deaths\"].astype('int')\n",
        " #Now that the NaN is gone, I changed the data from string to integer."
      ],
      "metadata": {
        "colab": {
          "base_uri": "https://localhost:8080/"
        },
        "id": "tu2NWtph4LCY",
        "outputId": "b1c5fed9-755a-4693-91dc-6c9152677588"
      },
      "execution_count": 13,
      "outputs": [
        {
          "output_type": "stream",
          "name": "stderr",
          "text": [
            "/usr/local/lib/python3.7/dist-packages/ipykernel_launcher.py:1: SettingWithCopyWarning: \n",
            "A value is trying to be set on a copy of a slice from a DataFrame.\n",
            "Try using .loc[row_indexer,col_indexer] = value instead\n",
            "\n",
            "See the caveats in the documentation: https://pandas.pydata.org/pandas-docs/stable/user_guide/indexing.html#returning-a-view-versus-a-copy\n",
            "  \"\"\"Entry point for launching an IPython kernel.\n"
          ]
        }
      ]
    },
    {
      "cell_type": "code",
      "source": [
        "df1.dtypes\n",
        "#double-checking that the above code worked."
      ],
      "metadata": {
        "colab": {
          "base_uri": "https://localhost:8080/"
        },
        "id": "11l_GdOI7y8a",
        "outputId": "55a71800-9c56-448a-a14b-075b2f0b1895"
      },
      "execution_count": 14,
      "outputs": [
        {
          "output_type": "execute_result",
          "data": {
            "text/plain": [
              "Year               int64\n",
              "Leading Cause     object\n",
              "Sex               object\n",
              "Race Ethnicity    object\n",
              "Deaths             int64\n",
              "dtype: object"
            ]
          },
          "metadata": {},
          "execution_count": 14
        }
      ]
    },
    {
      "cell_type": "code",
      "source": [
        "df1[\"Deaths\"].sum()\n",
        "#Total number of deaths included in this dataset, across all Leading Causes."
      ],
      "metadata": {
        "id": "uYkUynrZGjcp",
        "colab": {
          "base_uri": "https://localhost:8080/"
        },
        "outputId": "81c14b3c-4f44-40ce-f415-2729ca396bbb"
      },
      "execution_count": 15,
      "outputs": [
        {
          "output_type": "execute_result",
          "data": {
            "text/plain": [
              "424998"
            ]
          },
          "metadata": {},
          "execution_count": 15
        }
      ]
    },
    {
      "cell_type": "code",
      "source": [
        "df1.head()"
      ],
      "metadata": {
        "colab": {
          "base_uri": "https://localhost:8080/",
          "height": 206
        },
        "id": "XQzkSPsp9Njs",
        "outputId": "f9f15583-c8f7-4f1e-eea2-87c3b0c4f70b"
      },
      "execution_count": 16,
      "outputs": [
        {
          "output_type": "execute_result",
          "data": {
            "text/html": [
              "\n",
              "  <div id=\"df-dbb05d52-b2b4-4b45-9bc0-186f802e3a1e\">\n",
              "    <div class=\"colab-df-container\">\n",
              "      <div>\n",
              "<style scoped>\n",
              "    .dataframe tbody tr th:only-of-type {\n",
              "        vertical-align: middle;\n",
              "    }\n",
              "\n",
              "    .dataframe tbody tr th {\n",
              "        vertical-align: top;\n",
              "    }\n",
              "\n",
              "    .dataframe thead th {\n",
              "        text-align: right;\n",
              "    }\n",
              "</style>\n",
              "<table border=\"1\" class=\"dataframe\">\n",
              "  <thead>\n",
              "    <tr style=\"text-align: right;\">\n",
              "      <th></th>\n",
              "      <th>Year</th>\n",
              "      <th>Leading Cause</th>\n",
              "      <th>Sex</th>\n",
              "      <th>Race Ethnicity</th>\n",
              "      <th>Deaths</th>\n",
              "    </tr>\n",
              "  </thead>\n",
              "  <tbody>\n",
              "    <tr>\n",
              "      <th>1</th>\n",
              "      <td>2013</td>\n",
              "      <td>Influenza (Flu) and Pneumonia (J09-J18)</td>\n",
              "      <td>F</td>\n",
              "      <td>Hispanic</td>\n",
              "      <td>204</td>\n",
              "    </tr>\n",
              "    <tr>\n",
              "      <th>3</th>\n",
              "      <td>2007</td>\n",
              "      <td>Essential Hypertension and Renal Diseases (I10...</td>\n",
              "      <td>F</td>\n",
              "      <td>Not Stated/Unknown</td>\n",
              "      <td>5</td>\n",
              "    </tr>\n",
              "    <tr>\n",
              "      <th>4</th>\n",
              "      <td>2014</td>\n",
              "      <td>Cerebrovascular Disease (Stroke: I60-I69)</td>\n",
              "      <td>F</td>\n",
              "      <td>White Non-Hispanic</td>\n",
              "      <td>418</td>\n",
              "    </tr>\n",
              "    <tr>\n",
              "      <th>5</th>\n",
              "      <td>2009</td>\n",
              "      <td>Essential Hypertension and Renal Diseases (I10...</td>\n",
              "      <td>M</td>\n",
              "      <td>Asian and Pacific Islander</td>\n",
              "      <td>26</td>\n",
              "    </tr>\n",
              "    <tr>\n",
              "      <th>6</th>\n",
              "      <td>2013</td>\n",
              "      <td>Influenza (Flu) and Pneumonia (J09-J18)</td>\n",
              "      <td>M</td>\n",
              "      <td>White Non-Hispanic</td>\n",
              "      <td>618</td>\n",
              "    </tr>\n",
              "  </tbody>\n",
              "</table>\n",
              "</div>\n",
              "      <button class=\"colab-df-convert\" onclick=\"convertToInteractive('df-dbb05d52-b2b4-4b45-9bc0-186f802e3a1e')\"\n",
              "              title=\"Convert this dataframe to an interactive table.\"\n",
              "              style=\"display:none;\">\n",
              "        \n",
              "  <svg xmlns=\"http://www.w3.org/2000/svg\" height=\"24px\"viewBox=\"0 0 24 24\"\n",
              "       width=\"24px\">\n",
              "    <path d=\"M0 0h24v24H0V0z\" fill=\"none\"/>\n",
              "    <path d=\"M18.56 5.44l.94 2.06.94-2.06 2.06-.94-2.06-.94-.94-2.06-.94 2.06-2.06.94zm-11 1L8.5 8.5l.94-2.06 2.06-.94-2.06-.94L8.5 2.5l-.94 2.06-2.06.94zm10 10l.94 2.06.94-2.06 2.06-.94-2.06-.94-.94-2.06-.94 2.06-2.06.94z\"/><path d=\"M17.41 7.96l-1.37-1.37c-.4-.4-.92-.59-1.43-.59-.52 0-1.04.2-1.43.59L10.3 9.45l-7.72 7.72c-.78.78-.78 2.05 0 2.83L4 21.41c.39.39.9.59 1.41.59.51 0 1.02-.2 1.41-.59l7.78-7.78 2.81-2.81c.8-.78.8-2.07 0-2.86zM5.41 20L4 18.59l7.72-7.72 1.47 1.35L5.41 20z\"/>\n",
              "  </svg>\n",
              "      </button>\n",
              "      \n",
              "  <style>\n",
              "    .colab-df-container {\n",
              "      display:flex;\n",
              "      flex-wrap:wrap;\n",
              "      gap: 12px;\n",
              "    }\n",
              "\n",
              "    .colab-df-convert {\n",
              "      background-color: #E8F0FE;\n",
              "      border: none;\n",
              "      border-radius: 50%;\n",
              "      cursor: pointer;\n",
              "      display: none;\n",
              "      fill: #1967D2;\n",
              "      height: 32px;\n",
              "      padding: 0 0 0 0;\n",
              "      width: 32px;\n",
              "    }\n",
              "\n",
              "    .colab-df-convert:hover {\n",
              "      background-color: #E2EBFA;\n",
              "      box-shadow: 0px 1px 2px rgba(60, 64, 67, 0.3), 0px 1px 3px 1px rgba(60, 64, 67, 0.15);\n",
              "      fill: #174EA6;\n",
              "    }\n",
              "\n",
              "    [theme=dark] .colab-df-convert {\n",
              "      background-color: #3B4455;\n",
              "      fill: #D2E3FC;\n",
              "    }\n",
              "\n",
              "    [theme=dark] .colab-df-convert:hover {\n",
              "      background-color: #434B5C;\n",
              "      box-shadow: 0px 1px 3px 1px rgba(0, 0, 0, 0.15);\n",
              "      filter: drop-shadow(0px 1px 2px rgba(0, 0, 0, 0.3));\n",
              "      fill: #FFFFFF;\n",
              "    }\n",
              "  </style>\n",
              "\n",
              "      <script>\n",
              "        const buttonEl =\n",
              "          document.querySelector('#df-dbb05d52-b2b4-4b45-9bc0-186f802e3a1e button.colab-df-convert');\n",
              "        buttonEl.style.display =\n",
              "          google.colab.kernel.accessAllowed ? 'block' : 'none';\n",
              "\n",
              "        async function convertToInteractive(key) {\n",
              "          const element = document.querySelector('#df-dbb05d52-b2b4-4b45-9bc0-186f802e3a1e');\n",
              "          const dataTable =\n",
              "            await google.colab.kernel.invokeFunction('convertToInteractive',\n",
              "                                                     [key], {});\n",
              "          if (!dataTable) return;\n",
              "\n",
              "          const docLinkHtml = 'Like what you see? Visit the ' +\n",
              "            '<a target=\"_blank\" href=https://colab.research.google.com/notebooks/data_table.ipynb>data table notebook</a>'\n",
              "            + ' to learn more about interactive tables.';\n",
              "          element.innerHTML = '';\n",
              "          dataTable['output_type'] = 'display_data';\n",
              "          await google.colab.output.renderOutput(dataTable, element);\n",
              "          const docLink = document.createElement('div');\n",
              "          docLink.innerHTML = docLinkHtml;\n",
              "          element.appendChild(docLink);\n",
              "        }\n",
              "      </script>\n",
              "    </div>\n",
              "  </div>\n",
              "  "
            ],
            "text/plain": [
              "   Year  ... Deaths\n",
              "1  2013  ...    204\n",
              "3  2007  ...      5\n",
              "4  2014  ...    418\n",
              "5  2009  ...     26\n",
              "6  2013  ...    618\n",
              "\n",
              "[5 rows x 5 columns]"
            ]
          },
          "metadata": {},
          "execution_count": 16
        }
      ]
    },
    {
      "cell_type": "markdown",
      "source": [
        "**RESEARCH QUESTION:  DID THE TOP 5 LEADING CAUSES OF DEATH CHANGE OVERTIME, OVERALL AND BY DIFFERENT DEMOGRAPHIC GROUPS?**"
      ],
      "metadata": {
        "id": "eiQSho4__XyG"
      }
    },
    {
      "cell_type": "code",
      "source": [
        "df1[\"Leading Cause\"].unique()"
      ],
      "metadata": {
        "colab": {
          "base_uri": "https://localhost:8080/"
        },
        "id": "l80MDhqKhYmr",
        "outputId": "0f76cef4-4fe0-4eed-f259-6c5dd0df31e1"
      },
      "execution_count": 17,
      "outputs": [
        {
          "output_type": "execute_result",
          "data": {
            "text/plain": [
              "array(['Influenza (Flu) and Pneumonia (J09-J18)',\n",
              "       'Essential Hypertension and Renal Diseases (I10, I12)',\n",
              "       'Cerebrovascular Disease (Stroke: I60-I69)',\n",
              "       'Assault (Homicide: Y87.1, X85-Y09)', 'All Other Causes',\n",
              "       'Mental and Behavioral Disorders due to Accidental Poisoning and Other Psychoactive Substance Use (F11-F16, F18-F19, X40-X42, X44)',\n",
              "       'Accidents Except Drug Posioning (V01-X39, X43, X45-X59, Y85-Y86)',\n",
              "       'Chronic Lower Respiratory Diseases (J40-J47)',\n",
              "       'Diabetes Mellitus (E10-E14)',\n",
              "       'Diseases of Heart (I00-I09, I11, I13, I20-I51)',\n",
              "       \"Alzheimer's Disease (G30)\",\n",
              "       'Malignant Neoplasms (Cancer: C00-C97)',\n",
              "       'Viral Hepatitis (B15-B19)',\n",
              "       'Human Immunodeficiency Virus Disease (HIV: B20-B24)',\n",
              "       'Chronic Liver Disease and Cirrhosis (K70, K73)',\n",
              "       'Nephritis, Nephrotic Syndrome and Nephrisis (N00-N07, N17-N19, N25-N27)',\n",
              "       'Intentional Self-Harm (Suicide: X60-X84, Y87.0)',\n",
              "       'Certain Conditions originating in the Perinatal Period (P00-P96)',\n",
              "       'Septicemia (A40-A41)',\n",
              "       'Congenital Malformations, Deformations, and Chromosomal Abnormalities (Q00-Q99)',\n",
              "       'Insitu or Benign / Uncertain Neoplasms (D00-D48)'], dtype=object)"
            ]
          },
          "metadata": {},
          "execution_count": 17
        }
      ]
    },
    {
      "cell_type": "code",
      "source": [
        "df1.groupby(\"Leading Cause\").Deaths.sum().nlargest(10)"
      ],
      "metadata": {
        "colab": {
          "base_uri": "https://localhost:8080/"
        },
        "id": "pN8dFG1Jmmmw",
        "outputId": "e9d8889e-21a5-44bf-a070-9275f1db0da5"
      },
      "execution_count": 18,
      "outputs": [
        {
          "output_type": "execute_result",
          "data": {
            "text/plain": [
              "Leading Cause\n",
              "Diseases of Heart (I00-I09, I11, I13, I20-I51)                      147551\n",
              "Malignant Neoplasms (Cancer: C00-C97)                               106367\n",
              "All Other Causes                                                     77999\n",
              "Influenza (Flu) and Pneumonia (J09-J18)                              18678\n",
              "Diabetes Mellitus (E10-E14)                                          13794\n",
              "Chronic Lower Respiratory Diseases (J40-J47)                         13214\n",
              "Cerebrovascular Disease (Stroke: I60-I69)                            12941\n",
              "Accidents Except Drug Posioning (V01-X39, X43, X45-X59, Y85-Y86)      7467\n",
              "Essential Hypertension and Renal Diseases (I10, I12)                  6955\n",
              "Human Immunodeficiency Virus Disease (HIV: B20-B24)                   5436\n",
              "Name: Deaths, dtype: int64"
            ]
          },
          "metadata": {},
          "execution_count": 18
        }
      ]
    },
    {
      "cell_type": "code",
      "source": [
        "(147551+106367+77999+18678)/424998\n",
        "#Figuring out the percentage of deaths that the top 4 causes covered."
      ],
      "metadata": {
        "colab": {
          "base_uri": "https://localhost:8080/"
        },
        "id": "DPmLqBrPcumV",
        "outputId": "b82726dd-09c7-48fc-9746-5f2e5d29ee4a"
      },
      "execution_count": 19,
      "outputs": [
        {
          "output_type": "execute_result",
          "data": {
            "text/plain": [
              "0.8249332938037356"
            ]
          },
          "metadata": {},
          "execution_count": 19
        }
      ]
    },
    {
      "cell_type": "code",
      "source": [
        "dfm=df1[df1['Sex']== \"M\"]"
      ],
      "metadata": {
        "id": "M-4wh3kbnMbW"
      },
      "execution_count": 20,
      "outputs": []
    },
    {
      "cell_type": "code",
      "source": [
        "dff=df1[df1['Sex']== \"F\"]"
      ],
      "metadata": {
        "id": "w0pXheYKt8pW"
      },
      "execution_count": 21,
      "outputs": []
    },
    {
      "cell_type": "code",
      "source": [
        "dfm.replace({\"Human Immunodeficiency Virus Disease (HIV: B20-B24)\": \"HIV and AIDS\", \"Mental and Behavioral Disorders due to Accidental Poisoning and Other Psychoactive Substance Use (F11-F16, F18-F19, X40-X42, X44)\":\"Overdose\", \"Accidents Except Drug Posioning (V01-X39, X43, X45-X59, Y85-Y86)\": 'Accidents Except for Drug Poisoning', \"Cerebrovascular Disease (Stroke: I60-I69)\":\"Stroke\", \"Chronic Lower Respiratory Diseases (J40-J47)\": \"Chronic Lower Respiratory Diseases\", \"Diseases of Heart (I00-I09, I11, I13, I20-I51)\": \"Heart Disease\", \"Malignant Neoplasms (Cancer: C00-C97)\": \"Cancer\", \"Influenza (Flu) and Pneumonia (J09-J18)\": \"Flu & Pneumonia\", \"Diabetes Mellitus (E10-E14)\": \"Diabetes\", 'Chronic Lower Respiratory Diseases (J40-J47)': \"Chronic Lower Respiratory Diseases\"}, inplace=True)\n",
        "##Some of the names were too long to be clear in a chart so I re-named them.  I had trouble getting the name change to stick to the larger df, could only make it work with these updated df."
      ],
      "metadata": {
        "colab": {
          "base_uri": "https://localhost:8080/"
        },
        "id": "GHBcm2CmRTgF",
        "outputId": "aa9143b3-b582-48bf-983e-61fb5123e1f4"
      },
      "execution_count": 22,
      "outputs": [
        {
          "output_type": "stream",
          "name": "stderr",
          "text": [
            "/usr/local/lib/python3.7/dist-packages/pandas/core/frame.py:4389: SettingWithCopyWarning: \n",
            "A value is trying to be set on a copy of a slice from a DataFrame\n",
            "\n",
            "See the caveats in the documentation: https://pandas.pydata.org/pandas-docs/stable/user_guide/indexing.html#returning-a-view-versus-a-copy\n",
            "  method=method,\n"
          ]
        }
      ]
    },
    {
      "cell_type": "code",
      "source": [
        "dfm.groupby(\"Leading Cause\").Deaths.sum().nlargest(10)"
      ],
      "metadata": {
        "colab": {
          "base_uri": "https://localhost:8080/"
        },
        "id": "aVkl8Nmtt2mG",
        "outputId": "dc7f939f-bbcc-455a-a3cc-c6fe2c5be4cd"
      },
      "execution_count": 23,
      "outputs": [
        {
          "output_type": "execute_result",
          "data": {
            "text/plain": [
              "Leading Cause\n",
              "Heart Disease                          68799\n",
              "Cancer                                 52490\n",
              "All Other Causes                       39056\n",
              "Flu & Pneumonia                         8898\n",
              "Diabetes                                6569\n",
              "Chronic Lower Respiratory Diseases      5995\n",
              "Stroke                                  5360\n",
              "Accidents Except for Drug Poisoning     5191\n",
              "Overdose                                3760\n",
              "HIV and AIDS                            3633\n",
              "Name: Deaths, dtype: int64"
            ]
          },
          "metadata": {},
          "execution_count": 23
        }
      ]
    },
    {
      "cell_type": "code",
      "source": [
        "dff.replace({\"Cerebrovascular Disease (Stroke: I60-I69)\":\"Stroke\", \"Alzheimer's Disease (G30)\": \"Alzeheimer's\",\"Accidents Except Drug Posioning (V01-X39, X43, X45-X59, Y85-Y86)\": \"Accidents Except Drug Posioning\" ,\"Essential Hypertension and Renal Diseases (I10, I12)\": \"Hypertension and Renal Diseases\" , \"Diseases of Heart (I00-I09, I11, I13, I20-I51)\": \"Heart Disease\", \"Malignant Neoplasms (Cancer: C00-C97)\": \"Cancer\", \"Influenza (Flu) and Pneumonia (J09-J18)\": \"Flu & Pneumonia\", \"Diabetes Mellitus (E10-E14)\": \"Diabetes\", 'Chronic Lower Respiratory Diseases (J40-J47)': \"Chronic Lower Respiratory Diseases\"}, inplace=True)\n",
        "#Some of the names were too long to be clear in a chart so I re-named them."
      ],
      "metadata": {
        "colab": {
          "base_uri": "https://localhost:8080/"
        },
        "id": "SKxjgoZJRbsL",
        "outputId": "54380234-5491-48a5-d4db-02fd2906cb00"
      },
      "execution_count": 24,
      "outputs": [
        {
          "output_type": "stream",
          "name": "stderr",
          "text": [
            "/usr/local/lib/python3.7/dist-packages/pandas/core/frame.py:4389: SettingWithCopyWarning: \n",
            "A value is trying to be set on a copy of a slice from a DataFrame\n",
            "\n",
            "See the caveats in the documentation: https://pandas.pydata.org/pandas-docs/stable/user_guide/indexing.html#returning-a-view-versus-a-copy\n",
            "  method=method,\n"
          ]
        }
      ]
    },
    {
      "cell_type": "code",
      "source": [
        "dff.groupby(\"Leading Cause\").Deaths.sum().nlargest(10)"
      ],
      "metadata": {
        "colab": {
          "base_uri": "https://localhost:8080/"
        },
        "id": "LAI_ithgQy4d",
        "outputId": "ea827fd3-4e33-4586-a0d3-e8b2a671e721"
      },
      "execution_count": 25,
      "outputs": [
        {
          "output_type": "execute_result",
          "data": {
            "text/plain": [
              "Leading Cause\n",
              "Heart Disease                         78752\n",
              "Cancer                                53877\n",
              "All Other Causes                      38943\n",
              "Flu & Pneumonia                        9780\n",
              "Stroke                                 7581\n",
              "Diabetes                               7225\n",
              "Chronic Lower Respiratory Diseases     7219\n",
              "Hypertension and Renal Diseases        4310\n",
              "Alzeheimer's                           2980\n",
              "Accidents Except Drug Posioning        2276\n",
              "Name: Deaths, dtype: int64"
            ]
          },
          "metadata": {},
          "execution_count": 25
        }
      ]
    },
    {
      "cell_type": "code",
      "source": [
        "dfm.groupby(\"Leading Cause\").Deaths.sum().nlargest(10).plot(kind='bar')\n",
        "plt.xlabel(\"Leading Cause of Death\")\n",
        "plt.ylabel(\"Number of Deaths\")\n",
        "plt.title(\"Leading Cause of Death for Men from 2007-2014\", size=15)\n",
        "plt.show()"
      ],
      "metadata": {
        "colab": {
          "base_uri": "https://localhost:8080/",
          "height": 468
        },
        "id": "nUkkijY1u9yc",
        "outputId": "cf140000-37be-4ee4-b26d-b2f7262111be"
      },
      "execution_count": 26,
      "outputs": [
        {
          "output_type": "display_data",
          "data": {
            "image/png": "[encoded data removed]",
            "text/plain": [
              "<Figure size 432x288 with 1 Axes>"
            ]
          },
          "metadata": {
            "needs_background": "light"
          }
        }
      ]
    },
    {
      "cell_type": "code",
      "source": [
        "dff.groupby(\"Leading Cause\").Deaths.sum().nlargest(10)"
      ],
      "metadata": {
        "colab": {
          "base_uri": "https://localhost:8080/"
        },
        "id": "Y-KyrQf0uD1f",
        "outputId": "8a934a4b-3a68-4e05-a91e-59b930badbfe"
      },
      "execution_count": 27,
      "outputs": [
        {
          "output_type": "execute_result",
          "data": {
            "text/plain": [
              "Leading Cause\n",
              "Heart Disease                         78752\n",
              "Cancer                                53877\n",
              "All Other Causes                      38943\n",
              "Flu & Pneumonia                        9780\n",
              "Stroke                                 7581\n",
              "Diabetes                               7225\n",
              "Chronic Lower Respiratory Diseases     7219\n",
              "Hypertension and Renal Diseases        4310\n",
              "Alzeheimer's                           2980\n",
              "Accidents Except Drug Posioning        2276\n",
              "Name: Deaths, dtype: int64"
            ]
          },
          "metadata": {},
          "execution_count": 27
        }
      ]
    },
    {
      "cell_type": "code",
      "source": [
        "dff.groupby(\"Leading Cause\").Deaths.sum().nlargest(10).plot(kind='bar')\n",
        "plt.xlabel(\"Leading Cause of Death\")\n",
        "plt.ylabel(\"Number of Deaths\")\n",
        "plt.title(\"Leading Cause of Death for Women from 2007 to 2014\", size=15)\n",
        "plt.show()"
      ],
      "metadata": {
        "colab": {
          "base_uri": "https://localhost:8080/",
          "height": 466
        },
        "id": "tefKCazGtAxT",
        "outputId": "de47eb77-a3e1-4a3b-f8d2-0ae7a63eec4a"
      },
      "execution_count": 28,
      "outputs": [
        {
          "output_type": "display_data",
          "data": {
            "image/png": "[encoded data removed]",
            "text/plain": [
              "<Figure size 432x288 with 1 Axes>"
            ]
          },
          "metadata": {
            "needs_background": "light"
          }
        }
      ]
    },
    {
      "cell_type": "code",
      "source": [
        "#I wanted to look at the leading causes for all the years individually to see if there were any differences by year that was worth including in my analysis."
      ],
      "metadata": {
        "id": "RFWN3wgCLdkH"
      },
      "execution_count": 29,
      "outputs": []
    },
    {
      "cell_type": "code",
      "source": [
        "df2007=df1[df1['Year']== 2007]\n",
        "df2008=df1[df1['Year']== 2008]\n",
        "df2009=df1[df1['Year']== 2009]\n",
        "df2010=df1[df1['Year']== 2010]\n",
        "df2011=df1[df1['Year']== 2011]\n",
        "df2012=df1[df1['Year']== 2012]\n",
        "df2013=df1[df1['Year']== 2013]\n",
        "df2014=df1[df1['Year']== 2014]"
      ],
      "metadata": {
        "id": "SjZgdkY8D6Gg"
      },
      "execution_count": 30,
      "outputs": []
    },
    {
      "cell_type": "code",
      "source": [
        "df2007.groupby(\"Leading Cause\").Deaths.sum().nlargest(5)"
      ],
      "metadata": {
        "id": "2M8347WaE5RO",
        "colab": {
          "base_uri": "https://localhost:8080/"
        },
        "outputId": "f9a13748-40ef-456d-cc20-48f96fd48438"
      },
      "execution_count": 31,
      "outputs": [
        {
          "output_type": "execute_result",
          "data": {
            "text/plain": [
              "Leading Cause\n",
              "Diseases of Heart (I00-I09, I11, I13, I20-I51)    21441\n",
              "Malignant Neoplasms (Cancer: C00-C97)             13249\n",
              "All Other Causes                                   8142\n",
              "Influenza (Flu) and Pneumonia (J09-J18)            2236\n",
              "Diabetes Mellitus (E10-E14)                        1555\n",
              "Name: Deaths, dtype: int64"
            ]
          },
          "metadata": {},
          "execution_count": 31
        }
      ]
    },
    {
      "cell_type": "code",
      "source": [
        "df2008.groupby(\"Leading Cause\").Deaths.sum().nlargest(5)"
      ],
      "metadata": {
        "id": "fEJYBIbbmX31",
        "colab": {
          "base_uri": "https://localhost:8080/"
        },
        "outputId": "4b6946a9-27a3-48ed-faec-88e0a8b82ce3"
      },
      "execution_count": 32,
      "outputs": [
        {
          "output_type": "execute_result",
          "data": {
            "text/plain": [
              "Leading Cause\n",
              "Diseases of Heart (I00-I09, I11, I13, I20-I51)    21192\n",
              "Malignant Neoplasms (Cancer: C00-C97)             13040\n",
              "All Other Causes                                   8556\n",
              "Influenza (Flu) and Pneumonia (J09-J18)            2297\n",
              "Diabetes Mellitus (E10-E14)                        1631\n",
              "Name: Deaths, dtype: int64"
            ]
          },
          "metadata": {},
          "execution_count": 32
        }
      ]
    },
    {
      "cell_type": "code",
      "source": [
        "df2009.groupby(\"Leading Cause\").Deaths.sum().nlargest(5)"
      ],
      "metadata": {
        "id": "78p9pn73md63",
        "colab": {
          "base_uri": "https://localhost:8080/"
        },
        "outputId": "9b25b747-2e3f-449d-d324-256d2d005498"
      },
      "execution_count": 33,
      "outputs": [
        {
          "output_type": "execute_result",
          "data": {
            "text/plain": [
              "Leading Cause\n",
              "Diseases of Heart (I00-I09, I11, I13, I20-I51)    20084\n",
              "Malignant Neoplasms (Cancer: C00-C97)             13174\n",
              "All Other Causes                                   8445\n",
              "Influenza (Flu) and Pneumonia (J09-J18)            2274\n",
              "Diabetes Mellitus (E10-E14)                        1678\n",
              "Name: Deaths, dtype: int64"
            ]
          },
          "metadata": {},
          "execution_count": 33
        }
      ]
    },
    {
      "cell_type": "code",
      "source": [
        "df2010.groupby(\"Leading Cause\").Deaths.sum().nlargest(5)"
      ],
      "metadata": {
        "id": "HHKlRdzwmhzQ",
        "colab": {
          "base_uri": "https://localhost:8080/"
        },
        "outputId": "3c14c593-160e-46b8-e9e8-70a34867d585"
      },
      "execution_count": 34,
      "outputs": [
        {
          "output_type": "execute_result",
          "data": {
            "text/plain": [
              "Leading Cause\n",
              "Diseases of Heart (I00-I09, I11, I13, I20-I51)    17927\n",
              "Malignant Neoplasms (Cancer: C00-C97)             13330\n",
              "All Other Causes                                   9552\n",
              "Influenza (Flu) and Pneumonia (J09-J18)            2448\n",
              "Chronic Lower Respiratory Diseases (J40-J47)       1714\n",
              "Name: Deaths, dtype: int64"
            ]
          },
          "metadata": {},
          "execution_count": 34
        }
      ]
    },
    {
      "cell_type": "code",
      "source": [
        "df2011.groupby(\"Leading Cause\").Deaths.sum().nlargest(5)"
      ],
      "metadata": {
        "colab": {
          "base_uri": "https://localhost:8080/"
        },
        "id": "wgkOiwlYMJ_b",
        "outputId": "913d0c90-9d2c-4068-97a0-e427fb05d938"
      },
      "execution_count": 35,
      "outputs": [
        {
          "output_type": "execute_result",
          "data": {
            "text/plain": [
              "Leading Cause\n",
              "Diseases of Heart (I00-I09, I11, I13, I20-I51)    16900\n",
              "Malignant Neoplasms (Cancer: C00-C97)             13438\n",
              "All Other Causes                                  10387\n",
              "Influenza (Flu) and Pneumonia (J09-J18)            2491\n",
              "Diabetes Mellitus (E10-E14)                        1770\n",
              "Name: Deaths, dtype: int64"
            ]
          },
          "metadata": {},
          "execution_count": 35
        }
      ]
    },
    {
      "cell_type": "code",
      "source": [
        "df2012.groupby(\"Leading Cause\").Deaths.sum().nlargest(5)\n"
      ],
      "metadata": {
        "colab": {
          "base_uri": "https://localhost:8080/"
        },
        "id": "fBJqVzzZMOth",
        "outputId": "4d5df6c3-5347-4ae3-a0ce-e4b46bc59284"
      },
      "execution_count": 36,
      "outputs": [
        {
          "output_type": "execute_result",
          "data": {
            "text/plain": [
              "Leading Cause\n",
              "Diseases of Heart (I00-I09, I11, I13, I20-I51)    16731\n",
              "Malignant Neoplasms (Cancer: C00-C97)             13401\n",
              "All Other Causes                                  10708\n",
              "Influenza (Flu) and Pneumonia (J09-J18)            2240\n",
              "Diabetes Mellitus (E10-E14)                        1808\n",
              "Name: Deaths, dtype: int64"
            ]
          },
          "metadata": {},
          "execution_count": 36
        }
      ]
    },
    {
      "cell_type": "code",
      "source": [
        "df2013.groupby(\"Leading Cause\").Deaths.sum().nlargest(5)"
      ],
      "metadata": {
        "colab": {
          "base_uri": "https://localhost:8080/"
        },
        "id": "YBvHGtxBMSM6",
        "outputId": "3d4659f6-9003-45b4-eeee-c1cf05bc8cd7"
      },
      "execution_count": 37,
      "outputs": [
        {
          "output_type": "execute_result",
          "data": {
            "text/plain": [
              "Leading Cause\n",
              "Diseases of Heart (I00-I09, I11, I13, I20-I51)    16759\n",
              "Malignant Neoplasms (Cancer: C00-C97)             13358\n",
              "All Other Causes                                  11075\n",
              "Influenza (Flu) and Pneumonia (J09-J18)            2472\n",
              "Diabetes Mellitus (E10-E14)                        1843\n",
              "Name: Deaths, dtype: int64"
            ]
          },
          "metadata": {},
          "execution_count": 37
        }
      ]
    },
    {
      "cell_type": "code",
      "source": [
        "df2014.groupby(\"Leading Cause\").Deaths.sum().nlargest(5)"
      ],
      "metadata": {
        "colab": {
          "base_uri": "https://localhost:8080/"
        },
        "id": "-r0XBRRsMWyS",
        "outputId": "558ee513-4268-405a-b63f-faac64f3d490"
      },
      "execution_count": 38,
      "outputs": [
        {
          "output_type": "execute_result",
          "data": {
            "text/plain": [
              "Leading Cause\n",
              "Diseases of Heart (I00-I09, I11, I13, I20-I51)    16517\n",
              "Malignant Neoplasms (Cancer: C00-C97)             13377\n",
              "All Other Causes                                  11134\n",
              "Influenza (Flu) and Pneumonia (J09-J18)            2220\n",
              "Chronic Lower Respiratory Diseases (J40-J47)       1821\n",
              "Name: Deaths, dtype: int64"
            ]
          },
          "metadata": {},
          "execution_count": 38
        }
      ]
    },
    {
      "cell_type": "markdown",
      "source": [
        "Conclusion:  83% of all deaths are from heart disease, cancer, other causes, and the flu (which are the top four causes for both men and women).  There were smaller difference between genders on the top 4-10 causes of death. \n",
        "\n",
        "Similarities:  Stroke, Diabetes,  Chronic Lower Respiratory Diseases, and Accidents Except Drug Poisoning.\n",
        "\n",
        "Differences\n",
        "  \n",
        "  For men: Overdoses and AIDS related complications\n",
        "\n",
        "  For women: Hypertension, Alzheimer's."
      ],
      "metadata": {
        "id": "G2DVPbZLNp6c"
      }
    }
  ]
}